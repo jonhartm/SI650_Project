{
 "cells": [
  {
   "cell_type": "code",
   "execution_count": 1,
   "metadata": {},
   "outputs": [],
   "source": [
    "from whoosh.index import create_in\n",
    "from whoosh.fields import *\n",
    "from whoosh.qparser import QueryParser"
   ]
  },
  {
   "cell_type": "code",
   "execution_count": 3,
   "metadata": {},
   "outputs": [
    {
     "name": "stdout",
     "output_type": "stream",
     "text": [
      "<Top 1 Results for Term('content', 'interesting') runtime=0.0003778>\n",
      "<Hit {'title': 'Second document'}>\n"
     ]
    }
   ],
   "source": [
    "schema = Schema(title=TEXT(stored=True), path=ID(stored=True), content=TEXT)\n",
    "ix = create_in(\"indexdir\", schema)\n",
    "\n",
    "with ix.writer() as writer:\n",
    "    writer.add_document(title=u\"First document\", content=u\"This is the first document we've added!\")\n",
    "    writer.add_document(title=u\"Second document\", content=u\"The second one is even more interesting!\")\n",
    "\n",
    "with ix.searcher() as searcher:\n",
    "    query = QueryParser(\"content\", ix.schema).parse(\"interesting\")\n",
    "    results = searcher.search(query)\n",
    "    print(results)\n",
    "    for r in results:\n",
    "        print(r)"
   ]
  },
  {
   "cell_type": "code",
   "execution_count": 4,
   "metadata": {},
   "outputs": [
    {
     "name": "stdout",
     "output_type": "stream",
     "text": [
      "FileIndex(FileStorage('indexdir'), 'MAIN')\n"
     ]
    }
   ],
   "source": [
    "print(ix)"
   ]
  },
  {
   "cell_type": "code",
   "execution_count": 5,
   "metadata": {},
   "outputs": [],
   "source": [
    "import pandas as pd\n",
    "from pandas import Series, DataFrame"
   ]
  },
  {
   "cell_type": "code",
   "execution_count": 66,
   "metadata": {},
   "outputs": [],
   "source": [
    "sen_docs = pd.read_csv(\"recent.csv\")\n",
    "sen_docs['hashtags'] = sen_docs.text.str.findall('(#[a-zA-Z]*\\w)')\n",
    "sen_docs['ats'] = sen_docs.text.str.findall('(@[a-zA-Z]*\\w)')\n",
    "sen_docs['url_domains'] = sen_docs.urls.str.findall('://([a-zA-Z]*\\w)')"
   ]
  },
  {
   "cell_type": "code",
   "execution_count": 70,
   "metadata": {},
   "outputs": [
    {
     "data": {
      "text/html": [
       "<div>\n",
       "<style scoped>\n",
       "    .dataframe tbody tr th:only-of-type {\n",
       "        vertical-align: middle;\n",
       "    }\n",
       "\n",
       "    .dataframe tbody tr th {\n",
       "        vertical-align: top;\n",
       "    }\n",
       "\n",
       "    .dataframe thead th {\n",
       "        text-align: right;\n",
       "    }\n",
       "</style>\n",
       "<table border=\"1\" class=\"dataframe\">\n",
       "  <thead>\n",
       "    <tr style=\"text-align: right;\">\n",
       "      <th></th>\n",
       "      <th>Unnamed: 0</th>\n",
       "      <th>id</th>\n",
       "      <th>text</th>\n",
       "      <th>time</th>\n",
       "      <th>urls</th>\n",
       "      <th>user</th>\n",
       "      <th>hashtags</th>\n",
       "      <th>ats</th>\n",
       "      <th>url_domains</th>\n",
       "    </tr>\n",
       "  </thead>\n",
       "  <tbody>\n",
       "    <tr>\n",
       "      <th>0</th>\n",
       "      <td>0</td>\n",
       "      <td>1056333751482007553</td>\n",
       "      <td>Americans of all faiths stand with their #Jewi...</td>\n",
       "      <td>1540684566</td>\n",
       "      <td>https://twitter.com/i/web/status/1056333751482...</td>\n",
       "      <td>20015903</td>\n",
       "      <td>[#Jewish]</td>\n",
       "      <td>[]</td>\n",
       "      <td>[twitter]</td>\n",
       "    </tr>\n",
       "    <tr>\n",
       "      <th>1</th>\n",
       "      <td>1</td>\n",
       "      <td>1055940017825214465</td>\n",
       "      <td>Tonight, families in #Sderot and other communi...</td>\n",
       "      <td>1540590693</td>\n",
       "      <td>https://twitter.com/i/web/status/1055940017825...</td>\n",
       "      <td>20015903</td>\n",
       "      <td>[#Sderot]</td>\n",
       "      <td>[]</td>\n",
       "      <td>[twitter]</td>\n",
       "    </tr>\n",
       "    <tr>\n",
       "      <th>2</th>\n",
       "      <td>2</td>\n",
       "      <td>1055898795282698250</td>\n",
       "      <td>Recently Google suspended accounts associated ...</td>\n",
       "      <td>1540580865</td>\n",
       "      <td>https://twitter.com/i/web/status/1055898795282...</td>\n",
       "      <td>20015903</td>\n",
       "      <td>[]</td>\n",
       "      <td>[]</td>\n",
       "      <td>[twitter]</td>\n",
       "    </tr>\n",
       "    <tr>\n",
       "      <th>3</th>\n",
       "      <td>3</td>\n",
       "      <td>1055552628023676928</td>\n",
       "      <td>My statement on the recent violent actions tak...</td>\n",
       "      <td>1540498332</td>\n",
       "      <td>https://twitter.com/i/web/status/1055552628023...</td>\n",
       "      <td>20015903</td>\n",
       "      <td>[]</td>\n",
       "      <td>[]</td>\n",
       "      <td>[twitter]</td>\n",
       "    </tr>\n",
       "    <tr>\n",
       "      <th>4</th>\n",
       "      <td>4</td>\n",
       "      <td>1053741473630482432</td>\n",
       "      <td>Excited to have been with the Fox River Grove ...</td>\n",
       "      <td>1540066519</td>\n",
       "      <td>https://twitter.com/i/web/status/1053741473630...</td>\n",
       "      <td>20015903</td>\n",
       "      <td>[]</td>\n",
       "      <td>[]</td>\n",
       "      <td>[twitter]</td>\n",
       "    </tr>\n",
       "  </tbody>\n",
       "</table>\n",
       "</div>"
      ],
      "text/plain": [
       "   Unnamed: 0                   id  \\\n",
       "0           0  1056333751482007553   \n",
       "1           1  1055940017825214465   \n",
       "2           2  1055898795282698250   \n",
       "3           3  1055552628023676928   \n",
       "4           4  1053741473630482432   \n",
       "\n",
       "                                                text        time  \\\n",
       "0  Americans of all faiths stand with their #Jewi...  1540684566   \n",
       "1  Tonight, families in #Sderot and other communi...  1540590693   \n",
       "2  Recently Google suspended accounts associated ...  1540580865   \n",
       "3  My statement on the recent violent actions tak...  1540498332   \n",
       "4  Excited to have been with the Fox River Grove ...  1540066519   \n",
       "\n",
       "                                                urls      user   hashtags ats  \\\n",
       "0  https://twitter.com/i/web/status/1056333751482...  20015903  [#Jewish]  []   \n",
       "1  https://twitter.com/i/web/status/1055940017825...  20015903  [#Sderot]  []   \n",
       "2  https://twitter.com/i/web/status/1055898795282...  20015903         []  []   \n",
       "3  https://twitter.com/i/web/status/1055552628023...  20015903         []  []   \n",
       "4  https://twitter.com/i/web/status/1053741473630...  20015903         []  []   \n",
       "\n",
       "  url_domains  \n",
       "0   [twitter]  \n",
       "1   [twitter]  \n",
       "2   [twitter]  \n",
       "3   [twitter]  \n",
       "4   [twitter]  "
      ]
     },
     "execution_count": 70,
     "metadata": {},
     "output_type": "execute_result"
    }
   ],
   "source": [
    "sen_docs.head()"
   ]
  },
  {
   "cell_type": "code",
   "execution_count": 69,
   "metadata": {},
   "outputs": [],
   "source": [
    "schema = Schema(\n",
    "    content=TEXT, \n",
    "    id=ID(stored=True),\n",
    "    hashtags=KEYWORD,\n",
    "    ats=KEYWORD,\n",
    "    urls=TEXT\n",
    ")\n",
    "ix = create_in(\"indexdir\", schema)"
   ]
  },
  {
   "cell_type": "code",
   "execution_count": 71,
   "metadata": {},
   "outputs": [],
   "source": [
    "with ix.writer() as writer:\n",
    "    for doc in sen_docs.iterrows():\n",
    "        try:\n",
    "            writer.add_document(\n",
    "                content=doc[1].text, \n",
    "                id=str(doc[1].id),\n",
    "                hashtags=','.join(doc[1].hashtags),\n",
    "                ats=','.join(doc[1].ats),\n",
    "                urls=' '.join(doc[1].urls)\n",
    "            )\n",
    "        except:\n",
    "            pass"
   ]
  },
  {
   "cell_type": "code",
   "execution_count": 77,
   "metadata": {},
   "outputs": [
    {
     "data": {
      "text/html": [
       "<div>\n",
       "<style scoped>\n",
       "    .dataframe tbody tr th:only-of-type {\n",
       "        vertical-align: middle;\n",
       "    }\n",
       "\n",
       "    .dataframe tbody tr th {\n",
       "        vertical-align: top;\n",
       "    }\n",
       "\n",
       "    .dataframe thead th {\n",
       "        text-align: right;\n",
       "    }\n",
       "</style>\n",
       "<table border=\"1\" class=\"dataframe\">\n",
       "  <thead>\n",
       "    <tr style=\"text-align: right;\">\n",
       "      <th></th>\n",
       "      <th>Unnamed: 0</th>\n",
       "      <th>id</th>\n",
       "      <th>text</th>\n",
       "      <th>time</th>\n",
       "      <th>urls</th>\n",
       "      <th>user</th>\n",
       "      <th>hashtags</th>\n",
       "      <th>ats</th>\n",
       "      <th>url_domains</th>\n",
       "    </tr>\n",
       "  </thead>\n",
       "  <tbody>\n",
       "    <tr>\n",
       "      <th>175</th>\n",
       "      <td>175</td>\n",
       "      <td>1057711572812996609</td>\n",
       "      <td>Via @CNBC: Wages and salaries jump by 3.1%, hi...</td>\n",
       "      <td>1541013064</td>\n",
       "      <td>https://www.cnbc.com/2018/10/31/wages-and-sala...</td>\n",
       "      <td>237862972</td>\n",
       "      <td>[]</td>\n",
       "      <td>[@CNBC]</td>\n",
       "      <td>[www]</td>\n",
       "    </tr>\n",
       "    <tr>\n",
       "      <th>205</th>\n",
       "      <td>205</td>\n",
       "      <td>1052263036109635591</td>\n",
       "      <td>Via @CNBC: Another great sign for the economy:...</td>\n",
       "      <td>1539714032</td>\n",
       "      <td>https://www.cnbc.com/2018/10/16/job-openings-h...</td>\n",
       "      <td>237862972</td>\n",
       "      <td>[]</td>\n",
       "      <td>[@CNBC]</td>\n",
       "      <td>[www]</td>\n",
       "    </tr>\n",
       "    <tr>\n",
       "      <th>238</th>\n",
       "      <td>238</td>\n",
       "      <td>1044666690712334337</td>\n",
       "      <td>Via @CNBC: Consumer confidence rises to highes...</td>\n",
       "      <td>1537902922</td>\n",
       "      <td>https://cnb.cx/2xPvvnv</td>\n",
       "      <td>237862972</td>\n",
       "      <td>[]</td>\n",
       "      <td>[@CNBC]</td>\n",
       "      <td>[cnb]</td>\n",
       "    </tr>\n",
       "    <tr>\n",
       "      <th>276</th>\n",
       "      <td>276</td>\n",
       "      <td>1034552480602963971</td>\n",
       "      <td>Via @CNBC: Consumer confidence pops in August ...</td>\n",
       "      <td>1535491507</td>\n",
       "      <td>https://www.cnbc.com/2018/08/28/august-consume...</td>\n",
       "      <td>237862972</td>\n",
       "      <td>[]</td>\n",
       "      <td>[@CNBC]</td>\n",
       "      <td>[www]</td>\n",
       "    </tr>\n",
       "  </tbody>\n",
       "</table>\n",
       "</div>"
      ],
      "text/plain": [
       "     Unnamed: 0                   id  \\\n",
       "175         175  1057711572812996609   \n",
       "205         205  1052263036109635591   \n",
       "238         238  1044666690712334337   \n",
       "276         276  1034552480602963971   \n",
       "\n",
       "                                                  text        time  \\\n",
       "175  Via @CNBC: Wages and salaries jump by 3.1%, hi...  1541013064   \n",
       "205  Via @CNBC: Another great sign for the economy:...  1539714032   \n",
       "238  Via @CNBC: Consumer confidence rises to highes...  1537902922   \n",
       "276  Via @CNBC: Consumer confidence pops in August ...  1535491507   \n",
       "\n",
       "                                                  urls       user hashtags  \\\n",
       "175  https://www.cnbc.com/2018/10/31/wages-and-sala...  237862972       []   \n",
       "205  https://www.cnbc.com/2018/10/16/job-openings-h...  237862972       []   \n",
       "238                             https://cnb.cx/2xPvvnv  237862972       []   \n",
       "276  https://www.cnbc.com/2018/08/28/august-consume...  237862972       []   \n",
       "\n",
       "         ats url_domains  \n",
       "175  [@CNBC]       [www]  \n",
       "205  [@CNBC]       [www]  \n",
       "238  [@CNBC]       [cnb]  \n",
       "276  [@CNBC]       [www]  "
      ]
     },
     "execution_count": 77,
     "metadata": {},
     "output_type": "execute_result"
    }
   ],
   "source": [
    "search_term = 'cnbc'\n",
    "\n",
    "with ix.searcher() as searcher:\n",
    "    query = QueryParser(\"content\", ix.schema).parse(search_term)\n",
    "    results = searcher.search(query)\n",
    "    result_ids = []\n",
    "    for r in results:\n",
    "        result_ids.append(r['id'])\n",
    "    results_df = sen_docs[sen_docs.id.isin(result_ids)]\n",
    "results_df"
   ]
  },
  {
   "cell_type": "code",
   "execution_count": 13,
   "metadata": {},
   "outputs": [],
   "source": [
    "sen_docs = pd.read_csv(\"recent.csv\")"
   ]
  }
 ],
 "metadata": {
  "kernelspec": {
   "display_name": "Python 3",
   "language": "python",
   "name": "python3"
  },
  "language_info": {
   "codemirror_mode": {
    "name": "ipython",
    "version": 3
   },
   "file_extension": ".py",
   "mimetype": "text/x-python",
   "name": "python",
   "nbconvert_exporter": "python",
   "pygments_lexer": "ipython3",
   "version": "3.6.5"
  }
 },
 "nbformat": 4,
 "nbformat_minor": 2
}

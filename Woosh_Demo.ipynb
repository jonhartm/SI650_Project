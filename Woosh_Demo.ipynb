{
 "cells": [
  {
   "cell_type": "code",
   "execution_count": 2,
   "metadata": {},
   "outputs": [],
   "source": [
    "from whoosh.index import create_in\n",
    "from whoosh.fields import *\n",
    "from whoosh.qparser import QueryParser"
   ]
  },
  {
   "cell_type": "code",
   "execution_count": 3,
   "metadata": {},
   "outputs": [
    {
     "name": "stdout",
     "output_type": "stream",
     "text": [
      "<Top 1 Results for Term('content', 'interesting') runtime=0.0007672940894377173>\n",
      "<Hit {'title': 'Second document'}>\n"
     ]
    }
   ],
   "source": [
    "schema = Schema(title=TEXT(stored=True), path=ID(stored=True), content=TEXT)\n",
    "ix = create_in(\"indexdir\", schema)\n",
    "\n",
    "with ix.writer() as writer:\n",
    "    writer.add_document(title=u\"First document\", content=u\"This is the first document we've added!\")\n",
    "    writer.add_document(title=u\"Second document\", content=u\"The second one is even more interesting!\")\n",
    "\n",
    "with ix.searcher() as searcher:\n",
    "    query = QueryParser(\"content\", ix.schema).parse(\"interesting\")\n",
    "    results = searcher.search(query)\n",
    "    print(results)\n",
    "    for r in results:\n",
    "        print(r)"
   ]
  },
  {
   "cell_type": "code",
   "execution_count": 4,
   "metadata": {},
   "outputs": [
    {
     "name": "stdout",
     "output_type": "stream",
     "text": [
      "FileIndex(FileStorage('indexdir'), 'MAIN')\n"
     ]
    }
   ],
   "source": [
    "print(ix)"
   ]
  },
  {
   "cell_type": "code",
   "execution_count": 5,
   "metadata": {},
   "outputs": [],
   "source": [
    "import pandas as pd\n",
    "from pandas import Series, DataFrame"
   ]
  },
  {
   "cell_type": "code",
   "execution_count": 6,
   "metadata": {},
   "outputs": [],
   "source": [
    "sen_docs = pd.read_csv(\"recent.csv\")"
   ]
  },
  {
   "cell_type": "code",
   "execution_count": 7,
   "metadata": {},
   "outputs": [],
   "source": [
    "schema = Schema(content=TEXT, id=ID(stored=True))\n",
    "ix = create_in(\"indexdir\", schema)"
   ]
  },
  {
   "cell_type": "code",
   "execution_count": 8,
   "metadata": {},
   "outputs": [],
   "source": [
    "with ix.writer() as writer:\n",
    "    for doc in sen_docs.iterrows():\n",
    "        try:\n",
    "            writer.add_document(content=doc[1].text, id=str(doc[1].id))\n",
    "        except:\n",
    "            pass"
   ]
  },
  {
   "cell_type": "code",
   "execution_count": 12,
   "metadata": {},
   "outputs": [
    {
     "data": {
      "text/html": [
       "<div>\n",
       "<style scoped>\n",
       "    .dataframe tbody tr th:only-of-type {\n",
       "        vertical-align: middle;\n",
       "    }\n",
       "\n",
       "    .dataframe tbody tr th {\n",
       "        vertical-align: top;\n",
       "    }\n",
       "\n",
       "    .dataframe thead th {\n",
       "        text-align: right;\n",
       "    }\n",
       "</style>\n",
       "<table border=\"1\" class=\"dataframe\">\n",
       "  <thead>\n",
       "    <tr style=\"text-align: right;\">\n",
       "      <th></th>\n",
       "      <th>Unnamed: 0</th>\n",
       "      <th>id</th>\n",
       "      <th>text</th>\n",
       "      <th>time</th>\n",
       "      <th>urls</th>\n",
       "      <th>user</th>\n",
       "    </tr>\n",
       "  </thead>\n",
       "  <tbody>\n",
       "    <tr>\n",
       "      <th>14296</th>\n",
       "      <td>498</td>\n",
       "      <td>1057671640643977216</td>\n",
       "      <td>Our economy is on a roll after #taxreform- we ...</td>\n",
       "      <td>1541003544</td>\n",
       "      <td>https://twitter.com/i/web/status/1057671640643...</td>\n",
       "      <td>21269970</td>\n",
       "    </tr>\n",
       "    <tr>\n",
       "      <th>16629</th>\n",
       "      <td>38</td>\n",
       "      <td>1059143740957360128</td>\n",
       "      <td>On Taxes &amp;amp; The Economy:\\n\\nI promised to c...</td>\n",
       "      <td>1541354520</td>\n",
       "      <td>https://twitter.com/i/web/status/1059143740957...</td>\n",
       "      <td>15673703</td>\n",
       "    </tr>\n",
       "    <tr>\n",
       "      <th>20884</th>\n",
       "      <td>224</td>\n",
       "      <td>1038062800168513537</td>\n",
       "      <td>Good news for the economy! https://t.co/ZZRlz8...</td>\n",
       "      <td>1536328432</td>\n",
       "      <td>https://twitter.com/USATODAY/status/1038050562...</td>\n",
       "      <td>19658173</td>\n",
       "    </tr>\n",
       "    <tr>\n",
       "      <th>42075</th>\n",
       "      <td>500</td>\n",
       "      <td>1053304052224790528</td>\n",
       "      <td>More records broken as Alabama’s economy conti...</td>\n",
       "      <td>1539962230</td>\n",
       "      <td>https://twitter.com/i/web/status/1053304052224...</td>\n",
       "      <td>2253968388</td>\n",
       "    </tr>\n",
       "    <tr>\n",
       "      <th>42647</th>\n",
       "      <td>1072</td>\n",
       "      <td>1022850702572441606</td>\n",
       "      <td>The economy is BOOMING! Todays quarterly GDP n...</td>\n",
       "      <td>1532701585</td>\n",
       "      <td>https://twitter.com/i/web/status/1022850702572...</td>\n",
       "      <td>1240107944</td>\n",
       "    </tr>\n",
       "    <tr>\n",
       "      <th>54604</th>\n",
       "      <td>286</td>\n",
       "      <td>1055907736788049921</td>\n",
       "      <td>Exciting news on the economy today: The U.S. e...</td>\n",
       "      <td>1540582996</td>\n",
       "      <td>https://twitter.com/i/web/status/1055907736788...</td>\n",
       "      <td>377534571</td>\n",
       "    </tr>\n",
       "    <tr>\n",
       "      <th>55007</th>\n",
       "      <td>689</td>\n",
       "      <td>1058372207183888385</td>\n",
       "      <td>The economy keeps on growing! https://t.co/Mhh...</td>\n",
       "      <td>1541170572</td>\n",
       "      <td>NaN</td>\n",
       "      <td>252819323</td>\n",
       "    </tr>\n",
       "    <tr>\n",
       "      <th>60351</th>\n",
       "      <td>477</td>\n",
       "      <td>1054823484566716416</td>\n",
       "      <td>The. Economy. Is. Ripping.! https://t.co/B8X6S...</td>\n",
       "      <td>1540324491</td>\n",
       "      <td>https://www.newsday.com/business/long-island-l...</td>\n",
       "      <td>2750127259</td>\n",
       "    </tr>\n",
       "    <tr>\n",
       "      <th>60953</th>\n",
       "      <td>1079</td>\n",
       "      <td>1057694032422453254</td>\n",
       "      <td>“The rock-solid jobs market and strong economy...</td>\n",
       "      <td>1541008882</td>\n",
       "      <td>https://twitter.com/i/web/status/1057694032422...</td>\n",
       "      <td>518644221</td>\n",
       "    </tr>\n",
       "    <tr>\n",
       "      <th>66168</th>\n",
       "      <td>653</td>\n",
       "      <td>1058340152098111488</td>\n",
       "      <td>The economy is on 🔥 #MAGA https://t.co/WoldUtBdL6</td>\n",
       "      <td>1541162929</td>\n",
       "      <td>https://twitter.com/FoxBusiness/status/1058337...</td>\n",
       "      <td>19739126</td>\n",
       "    </tr>\n",
       "  </tbody>\n",
       "</table>\n",
       "</div>"
      ],
      "text/plain": [
       "       Unnamed: 0                   id  \\\n",
       "14296         498  1057671640643977216   \n",
       "16629          38  1059143740957360128   \n",
       "20884         224  1038062800168513537   \n",
       "42075         500  1053304052224790528   \n",
       "42647        1072  1022850702572441606   \n",
       "54604         286  1055907736788049921   \n",
       "55007         689  1058372207183888385   \n",
       "60351         477  1054823484566716416   \n",
       "60953        1079  1057694032422453254   \n",
       "66168         653  1058340152098111488   \n",
       "\n",
       "                                                    text        time  \\\n",
       "14296  Our economy is on a roll after #taxreform- we ...  1541003544   \n",
       "16629  On Taxes &amp; The Economy:\\n\\nI promised to c...  1541354520   \n",
       "20884  Good news for the economy! https://t.co/ZZRlz8...  1536328432   \n",
       "42075  More records broken as Alabama’s economy conti...  1539962230   \n",
       "42647  The economy is BOOMING! Todays quarterly GDP n...  1532701585   \n",
       "54604  Exciting news on the economy today: The U.S. e...  1540582996   \n",
       "55007  The economy keeps on growing! https://t.co/Mhh...  1541170572   \n",
       "60351  The. Economy. Is. Ripping.! https://t.co/B8X6S...  1540324491   \n",
       "60953  “The rock-solid jobs market and strong economy...  1541008882   \n",
       "66168  The economy is on 🔥 #MAGA https://t.co/WoldUtBdL6  1541162929   \n",
       "\n",
       "                                                    urls        user  \n",
       "14296  https://twitter.com/i/web/status/1057671640643...    21269970  \n",
       "16629  https://twitter.com/i/web/status/1059143740957...    15673703  \n",
       "20884  https://twitter.com/USATODAY/status/1038050562...    19658173  \n",
       "42075  https://twitter.com/i/web/status/1053304052224...  2253968388  \n",
       "42647  https://twitter.com/i/web/status/1022850702572...  1240107944  \n",
       "54604  https://twitter.com/i/web/status/1055907736788...   377534571  \n",
       "55007                                                NaN   252819323  \n",
       "60351  https://www.newsday.com/business/long-island-l...  2750127259  \n",
       "60953  https://twitter.com/i/web/status/1057694032422...   518644221  \n",
       "66168  https://twitter.com/FoxBusiness/status/1058337...    19739126  "
      ]
     },
     "execution_count": 12,
     "metadata": {},
     "output_type": "execute_result"
    }
   ],
   "source": [
    "search_term = 'economy'\n",
    "\n",
    "with ix.searcher() as searcher:\n",
    "    query = QueryParser(\"content\", ix.schema).parse(search_term)\n",
    "    results = searcher.search(query)\n",
    "    result_ids = []\n",
    "    for r in results:\n",
    "        result_ids.append(r['id'])\n",
    "    results_df = sen_docs[sen_docs.id.isin(result_ids)]\n",
    "results_df"
   ]
  },
  {
   "cell_type": "code",
   "execution_count": 10,
   "metadata": {},
   "outputs": [
    {
     "data": {
      "text/html": [
       "<div>\n",
       "<style scoped>\n",
       "    .dataframe tbody tr th:only-of-type {\n",
       "        vertical-align: middle;\n",
       "    }\n",
       "\n",
       "    .dataframe tbody tr th {\n",
       "        vertical-align: top;\n",
       "    }\n",
       "\n",
       "    .dataframe thead th {\n",
       "        text-align: right;\n",
       "    }\n",
       "</style>\n",
       "<table border=\"1\" class=\"dataframe\">\n",
       "  <thead>\n",
       "    <tr style=\"text-align: right;\">\n",
       "      <th></th>\n",
       "      <th>Unnamed: 0</th>\n",
       "      <th>id</th>\n",
       "      <th>text</th>\n",
       "      <th>time</th>\n",
       "      <th>urls</th>\n",
       "      <th>user</th>\n",
       "    </tr>\n",
       "  </thead>\n",
       "  <tbody>\n",
       "    <tr>\n",
       "      <th>49684</th>\n",
       "      <td>1150</td>\n",
       "      <td>999398620523892738</td>\n",
       "      <td>#Abortion is not health care, &amp;amp; vulnerable...</td>\n",
       "      <td>1527110173</td>\n",
       "      <td>https://twitter.com/i/web/status/9993986205238...</td>\n",
       "      <td>110545675</td>\n",
       "    </tr>\n",
       "  </tbody>\n",
       "</table>\n",
       "</div>"
      ],
      "text/plain": [
       "       Unnamed: 0                  id  \\\n",
       "49684        1150  999398620523892738   \n",
       "\n",
       "                                                    text        time  \\\n",
       "49684  #Abortion is not health care, &amp; vulnerable...  1527110173   \n",
       "\n",
       "                                                    urls       user  \n",
       "49684  https://twitter.com/i/web/status/9993986205238...  110545675  "
      ]
     },
     "execution_count": 10,
     "metadata": {},
     "output_type": "execute_result"
    }
   ],
   "source": [
    "sen_docs[sen_docs.id==999398620523892738]"
   ]
  },
  {
   "cell_type": "code",
   "execution_count": null,
   "metadata": {},
   "outputs": [],
   "source": []
  }
 ],
 "metadata": {
  "kernelspec": {
   "display_name": "Python 3",
   "language": "python",
   "name": "python3"
  },
  "language_info": {
   "codemirror_mode": {
    "name": "ipython",
    "version": 3
   },
   "file_extension": ".py",
   "mimetype": "text/x-python",
   "name": "python",
   "nbconvert_exporter": "python",
   "pygments_lexer": "ipython3",
   "version": "3.6.5"
  }
 },
 "nbformat": 4,
 "nbformat_minor": 2
}
